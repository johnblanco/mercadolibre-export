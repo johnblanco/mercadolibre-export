{
  "nbformat": 4,
  "nbformat_minor": 0,
  "metadata": {
    "colab": {
      "name": "modelo vw gol",
      "provenance": [],
      "collapsed_sections": []
    },
    "kernelspec": {
      "name": "python3",
      "display_name": "Python 3"
    },
    "language_info": {
      "name": "python"
    }
  },
  "cells": [
    {
      "cell_type": "code",
      "metadata": {
        "id": "4JxTjBGfQVOf"
      },
      "source": [
        "import pandas as pd\n",
        "from sklearn.model_selection import train_test_split\n",
        "from sklearn.ensemble import RandomForestRegressor\n",
        "import numpy as np\n",
        "import math"
      ],
      "execution_count": 59,
      "outputs": []
    },
    {
      "cell_type": "code",
      "metadata": {
        "id": "MjgIXyI039GR"
      },
      "source": [
        "#funciones auxiliares\n",
        "\n",
        "def encode_and_bind(original_dataframe, feature_to_encode):\n",
        "    dummies = pd.get_dummies(original_dataframe[[feature_to_encode]])\n",
        "    res = pd.concat([original_dataframe, dummies], axis=1)\n",
        "    return(res)\n",
        "\n",
        "def split_vals(a,n):\n",
        "    return a[:n],a[n:]\n",
        "\n",
        "def mape(Y_Predicted, Y_actual):\n",
        "    mape = np.mean(np.abs((Y_actual - Y_Predicted)/Y_actual))*100\n",
        "    return mape\n",
        "\n",
        "def print_score(m):\n",
        "    print(\"mape train {}\".format(mape(m.predict(X_train),y_train)))\n",
        "    print(\"mape x_valid {}\".format(mape(m.predict(X_valid),y_valid)))\n",
        "    print(\"mape test {}\".format(mape(m.predict(X_test),y_test.values)))\n",
        "\n",
        "def feat_importance(m,df_train):\n",
        "    importance = m.feature_importances_\n",
        "    importance = pd.DataFrame(importance,index=df_train.columns,columns=[\"Importance\"])\n",
        "    return importance.sort_values(by=['Importance'],ascending=False)"
      ],
      "execution_count": 60,
      "outputs": []
    },
    {
      "cell_type": "code",
      "metadata": {
        "id": "92sKFarwvNV0"
      },
      "source": [
        "df = pd.read_csv('/content/gol.csv')#https://drive.google.com/file/d/143sUmCgyWaYd6BQ-byYzGpqdhsUKDZ5S/view?usp=sharing"
      ],
      "execution_count": 72,
      "outputs": []
    },
    {
      "cell_type": "code",
      "metadata": {
        "id": "9dzQcxVITW46",
        "colab": {
          "base_uri": "https://localhost:8080/"
        },
        "outputId": "e4d6d321-06ea-4531-f37f-0cb683a8abb2"
      },
      "source": [
        "# --- filtrado de datos\n",
        "\n",
        "print(\"Registros antes del filtrado: {}\".format(len(df)))\n",
        "\n",
        "df = df[df.year>1993]\n",
        "\n",
        "# quito los km extremos\n",
        "df = df[(df.km > 1111) & (df.km < 800000)]\n",
        "df[df.km != 111111]\n",
        "\n",
        "# quito los que estan en pesos que hay algunos que ponen $1, otros que se equivocaron de moneda, etc\n",
        "df = df[df.currency == 'USD']\n",
        "print(\"Registros luego del filtrado: {}\".format(len(df)))\n",
        "\n",
        "# quito los precios extremos\n",
        "df = df[(df.price > 1500) & (df.price < 96000)]\n",
        "\n",
        "df.fillna(value={'transmission':'Manual'},inplace=True)\n",
        "\n"
      ],
      "execution_count": 62,
      "outputs": [
        {
          "output_type": "stream",
          "text": [
            "Registros antes del filtrado: 405\n",
            "Registros luego del filtrado: 383\n"
          ],
          "name": "stdout"
        }
      ]
    },
    {
      "cell_type": "code",
      "metadata": {
        "colab": {
          "base_uri": "https://localhost:8080/"
        },
        "id": "wkJI9czeolHJ",
        "outputId": "54b9ad61-5a99-40b4-ac94-7e968e1d337d"
      },
      "source": [
        "df.info()"
      ],
      "execution_count": 63,
      "outputs": [
        {
          "output_type": "stream",
          "text": [
            "<class 'pandas.core.frame.DataFrame'>\n",
            "Int64Index: 383 entries, 0 to 404\n",
            "Data columns (total 16 columns):\n",
            " #   Column               Non-Null Count  Dtype  \n",
            "---  ------               --------------  -----  \n",
            " 0   id                   383 non-null    int64  \n",
            " 1   price                383 non-null    int64  \n",
            " 2   currency             383 non-null    object \n",
            " 3   used                 383 non-null    object \n",
            " 4   engine_displacement  383 non-null    float64\n",
            " 5   year                 383 non-null    int64  \n",
            " 6   brand                383 non-null    object \n",
            " 7   model                383 non-null    object \n",
            " 8   doors                383 non-null    int64  \n",
            " 9   traction_control     227 non-null    object \n",
            " 10  power                383 non-null    float64\n",
            " 11  fuel_type            383 non-null    object \n",
            " 12  km                   383 non-null    float64\n",
            " 13  transmission         383 non-null    object \n",
            " 14  trim                 383 non-null    object \n",
            " 15  permalink            383 non-null    object \n",
            "dtypes: float64(3), int64(4), object(9)\n",
            "memory usage: 50.9+ KB\n"
          ],
          "name": "stdout"
        }
      ]
    },
    {
      "cell_type": "code",
      "metadata": {
        "id": "C14IYWY6ueQt"
      },
      "source": [
        "df_human = df.copy()"
      ],
      "execution_count": 64,
      "outputs": []
    },
    {
      "cell_type": "code",
      "metadata": {
        "id": "c9DUE45XpBZO",
        "colab": {
          "base_uri": "https://localhost:8080/"
        },
        "outputId": "38916229-2997-479d-d711-2963a82adb7a"
      },
      "source": [
        "# --- entrenamiento del modelo\n",
        "\n",
        "df = df[['price','engine_displacement','year','doors','km']]\n",
        "\n",
        "df_raw_train, df_raw_test = train_test_split(df)\n",
        "\n",
        "n_valid = 100\n",
        "n_train = len(df_raw_train)-n_valid\n",
        "X_train,X_valid = split_vals(df_raw_train.drop('price',axis=1),n_train)\n",
        "y_train,y_valid = split_vals(df_raw_train['price'],n_train)\n",
        "X_test = df_raw_test\n",
        "y_test = X_test[['price']]\n",
        "X_test = X_test.drop('price',axis=1)\n",
        "\n",
        "m = RandomForestRegressor(n_jobs=1, oob_score=True)\n",
        "\n",
        "m.fit(X_train, y_train)\n",
        "\n",
        "print_score(m)"
      ],
      "execution_count": 65,
      "outputs": [
        {
          "output_type": "stream",
          "text": [
            "mape train 3.285896142675943\n",
            "mape x_valid 7.376225197410554\n",
            "mape test 40.76088144517076\n"
          ],
          "name": "stdout"
        }
      ]
    },
    {
      "cell_type": "code",
      "metadata": {
        "id": "s7H0H5Q8qzPb",
        "colab": {
          "base_uri": "https://localhost:8080/",
          "height": 173
        },
        "outputId": "7704cb4b-ad40-412d-ec71-048faebe2d04"
      },
      "source": [
        "# exploracion de datos\n",
        "\n",
        "importance = feat_importance(m,X_train)\n",
        "importance[:]"
      ],
      "execution_count": 66,
      "outputs": [
        {
          "output_type": "execute_result",
          "data": {
            "text/html": [
              "<div>\n",
              "<style scoped>\n",
              "    .dataframe tbody tr th:only-of-type {\n",
              "        vertical-align: middle;\n",
              "    }\n",
              "\n",
              "    .dataframe tbody tr th {\n",
              "        vertical-align: top;\n",
              "    }\n",
              "\n",
              "    .dataframe thead th {\n",
              "        text-align: right;\n",
              "    }\n",
              "</style>\n",
              "<table border=\"1\" class=\"dataframe\">\n",
              "  <thead>\n",
              "    <tr style=\"text-align: right;\">\n",
              "      <th></th>\n",
              "      <th>Importance</th>\n",
              "    </tr>\n",
              "  </thead>\n",
              "  <tbody>\n",
              "    <tr>\n",
              "      <th>year</th>\n",
              "      <td>0.870602</td>\n",
              "    </tr>\n",
              "    <tr>\n",
              "      <th>km</th>\n",
              "      <td>0.084196</td>\n",
              "    </tr>\n",
              "    <tr>\n",
              "      <th>doors</th>\n",
              "      <td>0.026642</td>\n",
              "    </tr>\n",
              "    <tr>\n",
              "      <th>engine_displacement</th>\n",
              "      <td>0.018561</td>\n",
              "    </tr>\n",
              "  </tbody>\n",
              "</table>\n",
              "</div>"
            ],
            "text/plain": [
              "                     Importance\n",
              "year                   0.870602\n",
              "km                     0.084196\n",
              "doors                  0.026642\n",
              "engine_displacement    0.018561"
            ]
          },
          "metadata": {
            "tags": []
          },
          "execution_count": 66
        }
      ]
    },
    {
      "cell_type": "code",
      "metadata": {
        "id": "1skfqeKDr9Xz"
      },
      "source": [
        "df_human['predicted'] = m.predict(df.drop(columns='price'))"
      ],
      "execution_count": 67,
      "outputs": []
    },
    {
      "cell_type": "code",
      "metadata": {
        "id": "QXz3e_QLtPZF"
      },
      "source": [
        "df_human['predicted'] = df_human.predicted.apply(lambda x: round(x))\n",
        "df_human['abs_diff'] = df_human.apply(lambda row: round(abs(row['price'] - row['predicted'])), axis=1)\n",
        "df_human['diff'] = df_human.apply(lambda row: round(row['predicted'] - row['price']), axis=1)"
      ],
      "execution_count": 68,
      "outputs": []
    },
    {
      "cell_type": "code",
      "metadata": {
        "colab": {
          "base_uri": "https://localhost:8080/",
          "height": 419
        },
        "id": "4Ko9oIDvtr-M",
        "outputId": "fa201bb9-fc4c-4d4e-8872-70051646b53f"
      },
      "source": [
        "f = df_human.sort_values(by='diff',ascending=False)\n",
        "f[['brand', 'model','doors','km','price', 'predicted','year','diff','permalink']].head(100)"
      ],
      "execution_count": 69,
      "outputs": [
        {
          "output_type": "execute_result",
          "data": {
            "text/html": [
              "<div>\n",
              "<style scoped>\n",
              "    .dataframe tbody tr th:only-of-type {\n",
              "        vertical-align: middle;\n",
              "    }\n",
              "\n",
              "    .dataframe tbody tr th {\n",
              "        vertical-align: top;\n",
              "    }\n",
              "\n",
              "    .dataframe thead th {\n",
              "        text-align: right;\n",
              "    }\n",
              "</style>\n",
              "<table border=\"1\" class=\"dataframe\">\n",
              "  <thead>\n",
              "    <tr style=\"text-align: right;\">\n",
              "      <th></th>\n",
              "      <th>brand</th>\n",
              "      <th>model</th>\n",
              "      <th>doors</th>\n",
              "      <th>km</th>\n",
              "      <th>price</th>\n",
              "      <th>predicted</th>\n",
              "      <th>year</th>\n",
              "      <th>diff</th>\n",
              "      <th>permalink</th>\n",
              "    </tr>\n",
              "  </thead>\n",
              "  <tbody>\n",
              "    <tr>\n",
              "      <th>274</th>\n",
              "      <td>Volkswagen</td>\n",
              "      <td>Gol</td>\n",
              "      <td>5</td>\n",
              "      <td>97000.0</td>\n",
              "      <td>8500</td>\n",
              "      <td>11009</td>\n",
              "      <td>2013</td>\n",
              "      <td>2509</td>\n",
              "      <td>https://auto.mercadolibre.com.uy/MLU-480982010...</td>\n",
              "    </tr>\n",
              "    <tr>\n",
              "      <th>30</th>\n",
              "      <td>Volkswagen</td>\n",
              "      <td>Gol</td>\n",
              "      <td>5</td>\n",
              "      <td>120000.0</td>\n",
              "      <td>7900</td>\n",
              "      <td>10231</td>\n",
              "      <td>2013</td>\n",
              "      <td>2331</td>\n",
              "      <td>https://auto.mercadolibre.com.uy/MLU-480411436...</td>\n",
              "    </tr>\n",
              "    <tr>\n",
              "      <th>170</th>\n",
              "      <td>Volkswagen</td>\n",
              "      <td>Gol</td>\n",
              "      <td>3</td>\n",
              "      <td>11111.0</td>\n",
              "      <td>4000</td>\n",
              "      <td>6309</td>\n",
              "      <td>2000</td>\n",
              "      <td>2309</td>\n",
              "      <td>https://auto.mercadolibre.com.uy/MLU-480810783...</td>\n",
              "    </tr>\n",
              "    <tr>\n",
              "      <th>70</th>\n",
              "      <td>Volkswagen</td>\n",
              "      <td>Gol</td>\n",
              "      <td>3</td>\n",
              "      <td>225993.0</td>\n",
              "      <td>3690</td>\n",
              "      <td>5650</td>\n",
              "      <td>1997</td>\n",
              "      <td>1960</td>\n",
              "      <td>https://auto.mercadolibre.com.uy/MLU-480708588...</td>\n",
              "    </tr>\n",
              "    <tr>\n",
              "      <th>150</th>\n",
              "      <td>Volkswagen</td>\n",
              "      <td>Gol</td>\n",
              "      <td>5</td>\n",
              "      <td>40000.0</td>\n",
              "      <td>4200</td>\n",
              "      <td>6138</td>\n",
              "      <td>1998</td>\n",
              "      <td>1938</td>\n",
              "      <td>https://auto.mercadolibre.com.uy/MLU-480438450...</td>\n",
              "    </tr>\n",
              "    <tr>\n",
              "      <th>...</th>\n",
              "      <td>...</td>\n",
              "      <td>...</td>\n",
              "      <td>...</td>\n",
              "      <td>...</td>\n",
              "      <td>...</td>\n",
              "      <td>...</td>\n",
              "      <td>...</td>\n",
              "      <td>...</td>\n",
              "      <td>...</td>\n",
              "    </tr>\n",
              "    <tr>\n",
              "      <th>349</th>\n",
              "      <td>Volkswagen</td>\n",
              "      <td>Gol</td>\n",
              "      <td>5</td>\n",
              "      <td>130000.0</td>\n",
              "      <td>9000</td>\n",
              "      <td>9387</td>\n",
              "      <td>2013</td>\n",
              "      <td>387</td>\n",
              "      <td>https://auto.mercadolibre.com.uy/MLU-480280902...</td>\n",
              "    </tr>\n",
              "    <tr>\n",
              "      <th>244</th>\n",
              "      <td>Volkswagen</td>\n",
              "      <td>Gol</td>\n",
              "      <td>5</td>\n",
              "      <td>81000.0</td>\n",
              "      <td>11800</td>\n",
              "      <td>12185</td>\n",
              "      <td>2016</td>\n",
              "      <td>385</td>\n",
              "      <td>https://auto.mercadolibre.com.uy/MLU-480758216...</td>\n",
              "    </tr>\n",
              "    <tr>\n",
              "      <th>22</th>\n",
              "      <td>Volkswagen</td>\n",
              "      <td>Gol</td>\n",
              "      <td>3</td>\n",
              "      <td>98000.0</td>\n",
              "      <td>7990</td>\n",
              "      <td>8369</td>\n",
              "      <td>2009</td>\n",
              "      <td>379</td>\n",
              "      <td>https://auto.mercadolibre.com.uy/MLU-480642911...</td>\n",
              "    </tr>\n",
              "    <tr>\n",
              "      <th>340</th>\n",
              "      <td>Volkswagen</td>\n",
              "      <td>Gol</td>\n",
              "      <td>5</td>\n",
              "      <td>115776.0</td>\n",
              "      <td>12690</td>\n",
              "      <td>13057</td>\n",
              "      <td>2017</td>\n",
              "      <td>367</td>\n",
              "      <td>https://auto.mercadolibre.com.uy/MLU-479634932...</td>\n",
              "    </tr>\n",
              "    <tr>\n",
              "      <th>213</th>\n",
              "      <td>Volkswagen</td>\n",
              "      <td>Gol</td>\n",
              "      <td>5</td>\n",
              "      <td>68000.0</td>\n",
              "      <td>10490</td>\n",
              "      <td>10850</td>\n",
              "      <td>2014</td>\n",
              "      <td>360</td>\n",
              "      <td>https://auto.mercadolibre.com.uy/MLU-480875370...</td>\n",
              "    </tr>\n",
              "  </tbody>\n",
              "</table>\n",
              "<p>100 rows × 9 columns</p>\n",
              "</div>"
            ],
            "text/plain": [
              "          brand model  ...  diff                                          permalink\n",
              "274  Volkswagen   Gol  ...  2509  https://auto.mercadolibre.com.uy/MLU-480982010...\n",
              "30   Volkswagen   Gol  ...  2331  https://auto.mercadolibre.com.uy/MLU-480411436...\n",
              "170  Volkswagen   Gol  ...  2309  https://auto.mercadolibre.com.uy/MLU-480810783...\n",
              "70   Volkswagen   Gol  ...  1960  https://auto.mercadolibre.com.uy/MLU-480708588...\n",
              "150  Volkswagen   Gol  ...  1938  https://auto.mercadolibre.com.uy/MLU-480438450...\n",
              "..          ...   ...  ...   ...                                                ...\n",
              "349  Volkswagen   Gol  ...   387  https://auto.mercadolibre.com.uy/MLU-480280902...\n",
              "244  Volkswagen   Gol  ...   385  https://auto.mercadolibre.com.uy/MLU-480758216...\n",
              "22   Volkswagen   Gol  ...   379  https://auto.mercadolibre.com.uy/MLU-480642911...\n",
              "340  Volkswagen   Gol  ...   367  https://auto.mercadolibre.com.uy/MLU-479634932...\n",
              "213  Volkswagen   Gol  ...   360  https://auto.mercadolibre.com.uy/MLU-480875370...\n",
              "\n",
              "[100 rows x 9 columns]"
            ]
          },
          "metadata": {
            "tags": []
          },
          "execution_count": 69
        }
      ]
    },
    {
      "cell_type": "code",
      "metadata": {
        "id": "iUnsrNKC8H-D"
      },
      "source": [
        "f[['brand', 'model','doors','km','price', 'predicted','year','diff','permalink']].head(100).to_csv('oportunidades.csv',index=False)"
      ],
      "execution_count": 70,
      "outputs": []
    },
    {
      "cell_type": "code",
      "metadata": {
        "colab": {
          "base_uri": "https://localhost:8080/"
        },
        "id": "JZ9DmSd6E7PJ",
        "outputId": "5ff943e1-ba71-4d83-e267-11ae4197bbd5"
      },
      "source": [
        "f.head(15).permalink.values"
      ],
      "execution_count": 71,
      "outputs": [
        {
          "output_type": "execute_result",
          "data": {
            "text/plain": [
              "array(['https://auto.mercadolibre.com.uy/MLU-480982010-volkswagen-gol-16-101cv-2013-_JM',\n",
              "       'https://auto.mercadolibre.com.uy/MLU-480411436-volkswagen-gol-14-power-psac-83cv-2013-_JM',\n",
              "       'https://auto.mercadolibre.com.uy/MLU-480810783-volkswagen-gol-2000-10-gl-_JM',\n",
              "       'https://auto.mercadolibre.com.uy/MLU-480708588-volkswagen-gol-16-nafta-buen-estado-48-cuotas-_JM',\n",
              "       'https://auto.mercadolibre.com.uy/MLU-480438450-volkswagen-gol-1998-10-gl-5-p-_JM',\n",
              "       'https://auto.mercadolibre.com.uy/MLU-478790829-volkswagen-gol-16-power-101cv-2015-_JM',\n",
              "       'https://auto.mercadolibre.com.uy/MLU-481112923-volkswagen-gol-16-pack-i-101cv-2012-_JM',\n",
              "       'https://auto.mercadolibre.com.uy/MLU-480426308-volkswagen-gol-16-i-power-601-2008-_JM',\n",
              "       'https://auto.mercadolibre.com.uy/MLU-480831214-volkswagen-gol-16-ano-2013-sedan-full-al-dia-7900-dolares-_JM',\n",
              "       'https://auto.mercadolibre.com.uy/MLU-481093742-volkswagen-gol-16-power-101cv-2017-_JM',\n",
              "       'https://auto.mercadolibre.com.uy/MLU-480399421-volkswagen-gol-vendopermuto-_JM',\n",
              "       'https://auto.mercadolibre.com.uy/MLU-481074182-volkswagen-gol-5500-us-y-fac-_JM',\n",
              "       'https://auto.mercadolibre.com.uy/MLU-481021895-volkswagen-gol-2012-excelente-estado--_JM',\n",
              "       'https://auto.mercadolibre.com.uy/MLU-478460913-volkswagen-gol-power-2018-motorland-permuto-financio-_JM',\n",
              "       'https://auto.mercadolibre.com.uy/MLU-480479881-volkswagen-gol-msi-power-airbag-2017-_JM'],\n",
              "      dtype=object)"
            ]
          },
          "metadata": {
            "tags": []
          },
          "execution_count": 71
        }
      ]
    }
  ]
}